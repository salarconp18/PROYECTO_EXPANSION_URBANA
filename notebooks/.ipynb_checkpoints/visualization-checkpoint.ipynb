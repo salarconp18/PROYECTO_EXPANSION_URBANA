{
 "cells": [
  {
   "cell_type": "markdown",
   "id": "464fc625-f1c2-4484-bfce-d13171181b20",
   "metadata": {},
   "source": [
    "# EVALUACIÓN DE APTITUD TERRITORIAL PARA IDENTIFICACIÓN DE ZONAS DE EXPANSIÓN URBANA PARA MUNICIPIOS INTERMEDIOS"
   ]
  },
  {
   "cell_type": "markdown",
   "id": "c684d9d1-8cf6-4d84-83ba-805e1394683a",
   "metadata": {},
   "source": [
    "## Visualización resultados"
   ]
  },
  {
   "cell_type": "code",
   "execution_count": null,
   "id": "b66db5c3-3204-42e2-bba4-6eabc4f29a70",
   "metadata": {},
   "outputs": [],
   "source": []
  }
 ],
 "metadata": {
  "kernelspec": {
   "display_name": "Python 3 (ipykernel)",
   "language": "python",
   "name": "python3"
  },
  "language_info": {
   "codemirror_mode": {
    "name": "ipython",
    "version": 3
   },
   "file_extension": ".py",
   "mimetype": "text/x-python",
   "name": "python",
   "nbconvert_exporter": "python",
   "pygments_lexer": "ipython3",
   "version": "3.11.9"
  }
 },
 "nbformat": 4,
 "nbformat_minor": 5
}
