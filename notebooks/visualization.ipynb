{
 "cells": [
  {
   "cell_type": "markdown",
   "id": "9baf4d1f-e844-41b6-bf44-2c35b07e511d",
   "metadata": {},
   "source": [
    "# RESULTADOS IDENTIFICACIÓN DE ZONAS DE EXPANSIÓN URBANA PARA MUNICIPIOS INTERMEDIOS \n",
    "\n",
    "\n",
    "# 3. Notebook Visualización\n",
    "\n",
    "**Proyecto Final Programación SIG**\n",
    "\n",
    "**Maestria en Geomática**\n",
    "\n",
    "Estudiantes: \n",
    "* Sara Alarcon Prieto\n",
    "* Gizela Guzmán Lugo\n",
    "  \n",
    "\n",
    "Fecha: 21/07/2025"
   ]
  },
  {
   "cell_type": "markdown",
   "id": "4e8fbfdb-88a1-411f-af45-ebf7199172c6",
   "metadata": {},
   "source": [
    "## 3.1 INTRODUCCIÓN\n",
    "Este notebook tiene como finalidad identificar y visualizar las áreas potenciales para expansión urbana en el municipio de Tocancipá, Cundinamarca (Colombia), mediante el análisis espacial de variables geográficas clave. A partir de datos georreferenciados, se calcula un índice ponderado de idoneidad urbana, integrando criterios como pendiente del terreno, proximidad a vías, densidad urbana y tipo de cobertura del suelo (por ejemplo, áreas de pastos), conforme a directrices establecidas en el POT del municipio y la normativa nacional (Ley 388 de 1997; Decreto 1077 de 2015). El análisis permite clasificar el territorio en zonas de alta, media y baja aptitud para expansión urbana, representadas gráficamente mediante un mapa temático."
   ]
  },
  {
   "cell_type": "markdown",
   "id": "4fceb542-1309-405d-baf5-3d0e477ee42f",
   "metadata": {},
   "source": [
    "## 3.2 IMPORTACIÓN DE LIBRERÍAS\n",
    "\n",
    "Se emplean bibliotecas especializadas como GeoPandas para el manejo de datos espaciales vectoriales, Pandas para la gestión tabular de atributos, Matplotlib para la generación de gráficos y mapas, y Contextily para la incorporación de mapas base que contextualizan el análisis. Las funciones y métodos implementados permiten automatizar la clasificación del territorio mediante técnicas de análisis espacial, facilitando procesos de toma de decisiones en planeación territorial."
   ]
  },
  {
   "cell_type": "code",
   "execution_count": 4,
   "id": "95167e5c-0c31-4126-b4ae-7adbefe013a6",
   "metadata": {},
   "outputs": [],
   "source": [
    "import geopandas as gpd  # Para trabajar con datos geoespaciales en formato vectorial (shapefiles, GeoJSON, etc.)\n",
    "import matplotlib.pyplot as plt  # Para crear gráficos y figuras (mapas, leyendas, títulos, etc.)\n",
    "import matplotlib.patches as mpatches  # Para crear elementos gráficos personalizados, como parches de color en la leyenda\n",
    "from matplotlib.colors import ListedColormap  # Para definir paletas de colores personalizadas (colormaps) para los mapas\n",
    "import contextily as ctx  # Para agregar mapas base (como OpenStreetMap) a los gráficos espaciales"
   ]
  },
  {
   "cell_type": "markdown",
   "id": "8bb1aa4f-e6d2-441f-a4d8-fe4359d07b3f",
   "metadata": {},
   "source": [
    "El siguiente código carga y visualiza el mapa final de idoneidad para expansión urbana, usando los datos previamente calculados y exportados en formato shapefile. Representa gráficamente qué zonas del municipio son más aptas para expandirse urbanísticamente con los siguientes pasos:\n",
    "1. Carga el shapefile idoneidad_expansion.shp, que contiene celdas clasificadas como Bajo, Medio o Alto en función de un índice de idoneidad.\n",
    "   \n",
    "3. Define un colormap pastel:\n",
    "\n",
    "* Rojo claro → Baja idoneidad\n",
    "* Naranja claro → Media idoneidad\n",
    "* Verde claro → Alta idoneidad\n",
    "\n",
    "3. Calcula el porcentaje de celdas en cada clase (Bajo, Medio, Alto) para mostrarlas en la leyenda.\n",
    "   \n",
    "4. Grafica el mapa:\n",
    "Usa la columna numérica idoneida_1 (equivalente a idoneidad_clase_num) para asignar colores.\n",
    "Muestra la leyenda con texto y porcentaje.\n",
    "Agrega un mapa base de OpenStreetMap para dar contexto geográfico.\n",
    "Oculta los ejes y coloca un título informativo."
   ]
  },
  {
   "cell_type": "code",
   "execution_count": 5,
   "id": "528ecfff-47d7-465c-b673-7c140cf0907e",
   "metadata": {},
   "outputs": [
    {
     "ename": "DataSourceError",
     "evalue": "results/idoneidad_expansion.shp: No such file or directory",
     "output_type": "error",
     "traceback": [
      "\u001b[0;31m---------------------------------------------------------------------------\u001b[0m",
      "\u001b[0;31mDataSourceError\u001b[0m                           Traceback (most recent call last)",
      "Cell \u001b[0;32mIn[5], line 2\u001b[0m\n\u001b[1;32m      1\u001b[0m \u001b[38;5;66;03m# Cargar shapefile exportado\u001b[39;00m\n\u001b[0;32m----> 2\u001b[0m gdf \u001b[38;5;241m=\u001b[39m \u001b[43mgpd\u001b[49m\u001b[38;5;241;43m.\u001b[39;49m\u001b[43mread_file\u001b[49m\u001b[43m(\u001b[49m\u001b[38;5;124;43m\"\u001b[39;49m\u001b[38;5;124;43mresults/idoneidad_expansion.shp\u001b[39;49m\u001b[38;5;124;43m\"\u001b[39;49m\u001b[43m)\u001b[49m\n\u001b[1;32m      4\u001b[0m \u001b[38;5;66;03m# Definir colores pastel personalizados\u001b[39;00m\n\u001b[1;32m      5\u001b[0m colores \u001b[38;5;241m=\u001b[39m [\u001b[38;5;124m'\u001b[39m\u001b[38;5;124m#ff9999\u001b[39m\u001b[38;5;124m'\u001b[39m, \u001b[38;5;124m'\u001b[39m\u001b[38;5;124m#ffcc99\u001b[39m\u001b[38;5;124m'\u001b[39m, \u001b[38;5;124m'\u001b[39m\u001b[38;5;124m#99cc99\u001b[39m\u001b[38;5;124m'\u001b[39m]  \u001b[38;5;66;03m# Bajo, Medio, Alto\u001b[39;00m\n",
      "File \u001b[0;32m/opt/miniconda/lib/python3.11/site-packages/geopandas/io/file.py:317\u001b[0m, in \u001b[0;36m_read_file\u001b[0;34m(filename, bbox, mask, columns, rows, engine, **kwargs)\u001b[0m\n\u001b[1;32m    314\u001b[0m             filename \u001b[38;5;241m=\u001b[39m response\u001b[38;5;241m.\u001b[39mread()\n\u001b[1;32m    316\u001b[0m \u001b[38;5;28;01mif\u001b[39;00m engine \u001b[38;5;241m==\u001b[39m \u001b[38;5;124m\"\u001b[39m\u001b[38;5;124mpyogrio\u001b[39m\u001b[38;5;124m\"\u001b[39m:\n\u001b[0;32m--> 317\u001b[0m     \u001b[38;5;28;01mreturn\u001b[39;00m \u001b[43m_read_file_pyogrio\u001b[49m\u001b[43m(\u001b[49m\n\u001b[1;32m    318\u001b[0m \u001b[43m        \u001b[49m\u001b[43mfilename\u001b[49m\u001b[43m,\u001b[49m\u001b[43m \u001b[49m\u001b[43mbbox\u001b[49m\u001b[38;5;241;43m=\u001b[39;49m\u001b[43mbbox\u001b[49m\u001b[43m,\u001b[49m\u001b[43m \u001b[49m\u001b[43mmask\u001b[49m\u001b[38;5;241;43m=\u001b[39;49m\u001b[43mmask\u001b[49m\u001b[43m,\u001b[49m\u001b[43m \u001b[49m\u001b[43mcolumns\u001b[49m\u001b[38;5;241;43m=\u001b[39;49m\u001b[43mcolumns\u001b[49m\u001b[43m,\u001b[49m\u001b[43m \u001b[49m\u001b[43mrows\u001b[49m\u001b[38;5;241;43m=\u001b[39;49m\u001b[43mrows\u001b[49m\u001b[43m,\u001b[49m\u001b[43m \u001b[49m\u001b[38;5;241;43m*\u001b[39;49m\u001b[38;5;241;43m*\u001b[39;49m\u001b[43mkwargs\u001b[49m\n\u001b[1;32m    319\u001b[0m \u001b[43m    \u001b[49m\u001b[43m)\u001b[49m\n\u001b[1;32m    321\u001b[0m \u001b[38;5;28;01melif\u001b[39;00m engine \u001b[38;5;241m==\u001b[39m \u001b[38;5;124m\"\u001b[39m\u001b[38;5;124mfiona\u001b[39m\u001b[38;5;124m\"\u001b[39m:\n\u001b[1;32m    322\u001b[0m     \u001b[38;5;28;01mif\u001b[39;00m pd\u001b[38;5;241m.\u001b[39mapi\u001b[38;5;241m.\u001b[39mtypes\u001b[38;5;241m.\u001b[39mis_file_like(filename):\n",
      "File \u001b[0;32m/opt/miniconda/lib/python3.11/site-packages/geopandas/io/file.py:577\u001b[0m, in \u001b[0;36m_read_file_pyogrio\u001b[0;34m(path_or_bytes, bbox, mask, rows, **kwargs)\u001b[0m\n\u001b[1;32m    568\u001b[0m     warnings\u001b[38;5;241m.\u001b[39mwarn(\n\u001b[1;32m    569\u001b[0m         \u001b[38;5;124m\"\u001b[39m\u001b[38;5;124mThe \u001b[39m\u001b[38;5;124m'\u001b[39m\u001b[38;5;124minclude_fields\u001b[39m\u001b[38;5;124m'\u001b[39m\u001b[38;5;124m and \u001b[39m\u001b[38;5;124m'\u001b[39m\u001b[38;5;124mignore_fields\u001b[39m\u001b[38;5;124m'\u001b[39m\u001b[38;5;124m keywords are deprecated, and \u001b[39m\u001b[38;5;124m\"\u001b[39m\n\u001b[1;32m    570\u001b[0m         \u001b[38;5;124m\"\u001b[39m\u001b[38;5;124mwill be removed in a future release. You can use the \u001b[39m\u001b[38;5;124m'\u001b[39m\u001b[38;5;124mcolumns\u001b[39m\u001b[38;5;124m'\u001b[39m\u001b[38;5;124m keyword \u001b[39m\u001b[38;5;124m\"\u001b[39m\n\u001b[0;32m   (...)\u001b[0m\n\u001b[1;32m    573\u001b[0m         stacklevel\u001b[38;5;241m=\u001b[39m\u001b[38;5;241m3\u001b[39m,\n\u001b[1;32m    574\u001b[0m     )\n\u001b[1;32m    575\u001b[0m     kwargs[\u001b[38;5;124m\"\u001b[39m\u001b[38;5;124mcolumns\u001b[39m\u001b[38;5;124m\"\u001b[39m] \u001b[38;5;241m=\u001b[39m kwargs\u001b[38;5;241m.\u001b[39mpop(\u001b[38;5;124m\"\u001b[39m\u001b[38;5;124minclude_fields\u001b[39m\u001b[38;5;124m\"\u001b[39m)\n\u001b[0;32m--> 577\u001b[0m \u001b[38;5;28;01mreturn\u001b[39;00m \u001b[43mpyogrio\u001b[49m\u001b[38;5;241;43m.\u001b[39;49m\u001b[43mread_dataframe\u001b[49m\u001b[43m(\u001b[49m\u001b[43mpath_or_bytes\u001b[49m\u001b[43m,\u001b[49m\u001b[43m \u001b[49m\u001b[43mbbox\u001b[49m\u001b[38;5;241;43m=\u001b[39;49m\u001b[43mbbox\u001b[49m\u001b[43m,\u001b[49m\u001b[43m \u001b[49m\u001b[38;5;241;43m*\u001b[39;49m\u001b[38;5;241;43m*\u001b[39;49m\u001b[43mkwargs\u001b[49m\u001b[43m)\u001b[49m\n",
      "File \u001b[0;32m/opt/miniconda/lib/python3.11/site-packages/pyogrio/geopandas.py:261\u001b[0m, in \u001b[0;36mread_dataframe\u001b[0;34m(path_or_buffer, layer, encoding, columns, read_geometry, force_2d, skip_features, max_features, where, bbox, mask, fids, sql, sql_dialect, fid_as_index, use_arrow, on_invalid, arrow_to_pandas_kwargs, **kwargs)\u001b[0m\n\u001b[1;32m    256\u001b[0m \u001b[38;5;28;01mif\u001b[39;00m \u001b[38;5;129;01mnot\u001b[39;00m use_arrow:\n\u001b[1;32m    257\u001b[0m     \u001b[38;5;66;03m# For arrow, datetimes are read as is.\u001b[39;00m\n\u001b[1;32m    258\u001b[0m     \u001b[38;5;66;03m# For numpy IO, datetimes are read as string values to preserve timezone info\u001b[39;00m\n\u001b[1;32m    259\u001b[0m     \u001b[38;5;66;03m# as numpy does not directly support timezones.\u001b[39;00m\n\u001b[1;32m    260\u001b[0m     kwargs[\u001b[38;5;124m\"\u001b[39m\u001b[38;5;124mdatetime_as_string\u001b[39m\u001b[38;5;124m\"\u001b[39m] \u001b[38;5;241m=\u001b[39m \u001b[38;5;28;01mTrue\u001b[39;00m\n\u001b[0;32m--> 261\u001b[0m result \u001b[38;5;241m=\u001b[39m \u001b[43mread_func\u001b[49m\u001b[43m(\u001b[49m\n\u001b[1;32m    262\u001b[0m \u001b[43m    \u001b[49m\u001b[43mpath_or_buffer\u001b[49m\u001b[43m,\u001b[49m\n\u001b[1;32m    263\u001b[0m \u001b[43m    \u001b[49m\u001b[43mlayer\u001b[49m\u001b[38;5;241;43m=\u001b[39;49m\u001b[43mlayer\u001b[49m\u001b[43m,\u001b[49m\n\u001b[1;32m    264\u001b[0m \u001b[43m    \u001b[49m\u001b[43mencoding\u001b[49m\u001b[38;5;241;43m=\u001b[39;49m\u001b[43mencoding\u001b[49m\u001b[43m,\u001b[49m\n\u001b[1;32m    265\u001b[0m \u001b[43m    \u001b[49m\u001b[43mcolumns\u001b[49m\u001b[38;5;241;43m=\u001b[39;49m\u001b[43mcolumns\u001b[49m\u001b[43m,\u001b[49m\n\u001b[1;32m    266\u001b[0m \u001b[43m    \u001b[49m\u001b[43mread_geometry\u001b[49m\u001b[38;5;241;43m=\u001b[39;49m\u001b[43mread_geometry\u001b[49m\u001b[43m,\u001b[49m\n\u001b[1;32m    267\u001b[0m \u001b[43m    \u001b[49m\u001b[43mforce_2d\u001b[49m\u001b[38;5;241;43m=\u001b[39;49m\u001b[43mgdal_force_2d\u001b[49m\u001b[43m,\u001b[49m\n\u001b[1;32m    268\u001b[0m \u001b[43m    \u001b[49m\u001b[43mskip_features\u001b[49m\u001b[38;5;241;43m=\u001b[39;49m\u001b[43mskip_features\u001b[49m\u001b[43m,\u001b[49m\n\u001b[1;32m    269\u001b[0m \u001b[43m    \u001b[49m\u001b[43mmax_features\u001b[49m\u001b[38;5;241;43m=\u001b[39;49m\u001b[43mmax_features\u001b[49m\u001b[43m,\u001b[49m\n\u001b[1;32m    270\u001b[0m \u001b[43m    \u001b[49m\u001b[43mwhere\u001b[49m\u001b[38;5;241;43m=\u001b[39;49m\u001b[43mwhere\u001b[49m\u001b[43m,\u001b[49m\n\u001b[1;32m    271\u001b[0m \u001b[43m    \u001b[49m\u001b[43mbbox\u001b[49m\u001b[38;5;241;43m=\u001b[39;49m\u001b[43mbbox\u001b[49m\u001b[43m,\u001b[49m\n\u001b[1;32m    272\u001b[0m \u001b[43m    \u001b[49m\u001b[43mmask\u001b[49m\u001b[38;5;241;43m=\u001b[39;49m\u001b[43mmask\u001b[49m\u001b[43m,\u001b[49m\n\u001b[1;32m    273\u001b[0m \u001b[43m    \u001b[49m\u001b[43mfids\u001b[49m\u001b[38;5;241;43m=\u001b[39;49m\u001b[43mfids\u001b[49m\u001b[43m,\u001b[49m\n\u001b[1;32m    274\u001b[0m \u001b[43m    \u001b[49m\u001b[43msql\u001b[49m\u001b[38;5;241;43m=\u001b[39;49m\u001b[43msql\u001b[49m\u001b[43m,\u001b[49m\n\u001b[1;32m    275\u001b[0m \u001b[43m    \u001b[49m\u001b[43msql_dialect\u001b[49m\u001b[38;5;241;43m=\u001b[39;49m\u001b[43msql_dialect\u001b[49m\u001b[43m,\u001b[49m\n\u001b[1;32m    276\u001b[0m \u001b[43m    \u001b[49m\u001b[43mreturn_fids\u001b[49m\u001b[38;5;241;43m=\u001b[39;49m\u001b[43mfid_as_index\u001b[49m\u001b[43m,\u001b[49m\n\u001b[1;32m    277\u001b[0m \u001b[43m    \u001b[49m\u001b[38;5;241;43m*\u001b[39;49m\u001b[38;5;241;43m*\u001b[39;49m\u001b[43mkwargs\u001b[49m\u001b[43m,\u001b[49m\n\u001b[1;32m    278\u001b[0m \u001b[43m\u001b[49m\u001b[43m)\u001b[49m\n\u001b[1;32m    280\u001b[0m \u001b[38;5;28;01mif\u001b[39;00m use_arrow:\n\u001b[1;32m    281\u001b[0m     meta, table \u001b[38;5;241m=\u001b[39m result\n",
      "File \u001b[0;32m/opt/miniconda/lib/python3.11/site-packages/pyogrio/raw.py:196\u001b[0m, in \u001b[0;36mread\u001b[0;34m(path_or_buffer, layer, encoding, columns, read_geometry, force_2d, skip_features, max_features, where, bbox, mask, fids, sql, sql_dialect, return_fids, datetime_as_string, **kwargs)\u001b[0m\n\u001b[1;32m     56\u001b[0m \u001b[38;5;250m\u001b[39m\u001b[38;5;124;03m\"\"\"Read OGR data source into numpy arrays.\u001b[39;00m\n\u001b[1;32m     57\u001b[0m \n\u001b[1;32m     58\u001b[0m \u001b[38;5;124;03mIMPORTANT: non-linear geometry types (e.g., MultiSurface) are converted\u001b[39;00m\n\u001b[0;32m   (...)\u001b[0m\n\u001b[1;32m    191\u001b[0m \n\u001b[1;32m    192\u001b[0m \u001b[38;5;124;03m\"\"\"\u001b[39;00m\n\u001b[1;32m    194\u001b[0m dataset_kwargs \u001b[38;5;241m=\u001b[39m _preprocess_options_key_value(kwargs) \u001b[38;5;28;01mif\u001b[39;00m kwargs \u001b[38;5;28;01melse\u001b[39;00m {}\n\u001b[0;32m--> 196\u001b[0m \u001b[38;5;28;01mreturn\u001b[39;00m \u001b[43mogr_read\u001b[49m\u001b[43m(\u001b[49m\n\u001b[1;32m    197\u001b[0m \u001b[43m    \u001b[49m\u001b[43mget_vsi_path_or_buffer\u001b[49m\u001b[43m(\u001b[49m\u001b[43mpath_or_buffer\u001b[49m\u001b[43m)\u001b[49m\u001b[43m,\u001b[49m\n\u001b[1;32m    198\u001b[0m \u001b[43m    \u001b[49m\u001b[43mlayer\u001b[49m\u001b[38;5;241;43m=\u001b[39;49m\u001b[43mlayer\u001b[49m\u001b[43m,\u001b[49m\n\u001b[1;32m    199\u001b[0m \u001b[43m    \u001b[49m\u001b[43mencoding\u001b[49m\u001b[38;5;241;43m=\u001b[39;49m\u001b[43mencoding\u001b[49m\u001b[43m,\u001b[49m\n\u001b[1;32m    200\u001b[0m \u001b[43m    \u001b[49m\u001b[43mcolumns\u001b[49m\u001b[38;5;241;43m=\u001b[39;49m\u001b[43mcolumns\u001b[49m\u001b[43m,\u001b[49m\n\u001b[1;32m    201\u001b[0m \u001b[43m    \u001b[49m\u001b[43mread_geometry\u001b[49m\u001b[38;5;241;43m=\u001b[39;49m\u001b[43mread_geometry\u001b[49m\u001b[43m,\u001b[49m\n\u001b[1;32m    202\u001b[0m \u001b[43m    \u001b[49m\u001b[43mforce_2d\u001b[49m\u001b[38;5;241;43m=\u001b[39;49m\u001b[43mforce_2d\u001b[49m\u001b[43m,\u001b[49m\n\u001b[1;32m    203\u001b[0m \u001b[43m    \u001b[49m\u001b[43mskip_features\u001b[49m\u001b[38;5;241;43m=\u001b[39;49m\u001b[43mskip_features\u001b[49m\u001b[43m,\u001b[49m\n\u001b[1;32m    204\u001b[0m \u001b[43m    \u001b[49m\u001b[43mmax_features\u001b[49m\u001b[38;5;241;43m=\u001b[39;49m\u001b[43mmax_features\u001b[49m\u001b[43m \u001b[49m\u001b[38;5;129;43;01mor\u001b[39;49;00m\u001b[43m \u001b[49m\u001b[38;5;241;43m0\u001b[39;49m\u001b[43m,\u001b[49m\n\u001b[1;32m    205\u001b[0m \u001b[43m    \u001b[49m\u001b[43mwhere\u001b[49m\u001b[38;5;241;43m=\u001b[39;49m\u001b[43mwhere\u001b[49m\u001b[43m,\u001b[49m\n\u001b[1;32m    206\u001b[0m \u001b[43m    \u001b[49m\u001b[43mbbox\u001b[49m\u001b[38;5;241;43m=\u001b[39;49m\u001b[43mbbox\u001b[49m\u001b[43m,\u001b[49m\n\u001b[1;32m    207\u001b[0m \u001b[43m    \u001b[49m\u001b[43mmask\u001b[49m\u001b[38;5;241;43m=\u001b[39;49m\u001b[43m_mask_to_wkb\u001b[49m\u001b[43m(\u001b[49m\u001b[43mmask\u001b[49m\u001b[43m)\u001b[49m\u001b[43m,\u001b[49m\n\u001b[1;32m    208\u001b[0m \u001b[43m    \u001b[49m\u001b[43mfids\u001b[49m\u001b[38;5;241;43m=\u001b[39;49m\u001b[43mfids\u001b[49m\u001b[43m,\u001b[49m\n\u001b[1;32m    209\u001b[0m \u001b[43m    \u001b[49m\u001b[43msql\u001b[49m\u001b[38;5;241;43m=\u001b[39;49m\u001b[43msql\u001b[49m\u001b[43m,\u001b[49m\n\u001b[1;32m    210\u001b[0m \u001b[43m    \u001b[49m\u001b[43msql_dialect\u001b[49m\u001b[38;5;241;43m=\u001b[39;49m\u001b[43msql_dialect\u001b[49m\u001b[43m,\u001b[49m\n\u001b[1;32m    211\u001b[0m \u001b[43m    \u001b[49m\u001b[43mreturn_fids\u001b[49m\u001b[38;5;241;43m=\u001b[39;49m\u001b[43mreturn_fids\u001b[49m\u001b[43m,\u001b[49m\n\u001b[1;32m    212\u001b[0m \u001b[43m    \u001b[49m\u001b[43mdataset_kwargs\u001b[49m\u001b[38;5;241;43m=\u001b[39;49m\u001b[43mdataset_kwargs\u001b[49m\u001b[43m,\u001b[49m\n\u001b[1;32m    213\u001b[0m \u001b[43m    \u001b[49m\u001b[43mdatetime_as_string\u001b[49m\u001b[38;5;241;43m=\u001b[39;49m\u001b[43mdatetime_as_string\u001b[49m\u001b[43m,\u001b[49m\n\u001b[1;32m    214\u001b[0m \u001b[43m\u001b[49m\u001b[43m)\u001b[49m\n",
      "File \u001b[0;32m/opt/miniconda/lib/python3.11/site-packages/pyogrio/_io.pyx:1239\u001b[0m, in \u001b[0;36mpyogrio._io.ogr_read\u001b[0;34m()\u001b[0m\n",
      "File \u001b[0;32m/opt/miniconda/lib/python3.11/site-packages/pyogrio/_io.pyx:219\u001b[0m, in \u001b[0;36mpyogrio._io.ogr_open\u001b[0;34m()\u001b[0m\n",
      "\u001b[0;31mDataSourceError\u001b[0m: results/idoneidad_expansion.shp: No such file or directory"
     ]
    }
   ],
   "source": [
    "# Cargar shapefile exportado\n",
    "gdf = gpd.read_file(\"results/idoneidad_expansion.shp\")\n",
    "\n",
    "# Definir colores pastel personalizados\n",
    "colores = ['#ff9999', '#ffcc99', '#99cc99']  # Bajo, Medio, Alto\n",
    "cmap_personalizado = ListedColormap(colores)\n",
    "\n",
    "# Calcular proporciones por clase (para la leyenda)\n",
    "conteo = gdf['clase_txt'].value_counts(normalize=True) * 100\n",
    "etiquetas_leyenda = {\n",
    "    'Bajo': f'Bajo ({conteo.get(\"Bajo\", 0):.1f}%)',\n",
    "    'Medio': f'Medio ({conteo.get(\"Medio\", 0):.1f}%)',\n",
    "    'Alto': f'Alto ({conteo.get(\"Alto\", 0):.1f}%)'\n",
    "}\n",
    "\n",
    "# Graficar\n",
    "ax = gdf.plot(\n",
    "    column='idoneida_1',  # columna numérica truncada (idoneidad_clase_num → idoneida_1)\n",
    "    cmap=cmap_personalizado,\n",
    "    figsize=(12, 10),\n",
    "    edgecolor='black',\n",
    "    linewidth=0.1\n",
    ")\n",
    "\n",
    "# Leyenda personalizada\n",
    "leyenda_patches = [\n",
    "    mpatches.Patch(color='#ff9999', label=etiquetas_leyenda['Bajo']),\n",
    "    mpatches.Patch(color='#ffcc99', label=etiquetas_leyenda['Medio']),\n",
    "    mpatches.Patch(color='#99cc99', label=etiquetas_leyenda['Alto'])\n",
    "]\n",
    "ax.legend(handles=leyenda_patches, title='Idoneidad para Expansión', loc='upper left')\n",
    "\n",
    "# Título y mapa base\n",
    "ax.set_title(\"Clasificación de Idoneidad para Expansión Urbana\", fontsize=16)\n",
    "ax.axis('off')\n",
    "ctx.add_basemap(ax, source=ctx.providers.OpenStreetMap.Mapnik, crs=gdf.crs)\n",
    "\n",
    "plt.show()"
   ]
  },
  {
   "cell_type": "markdown",
   "id": "2ea5f9bf-46b8-439c-b6ff-5161bffda492",
   "metadata": {},
   "source": [
    "## 3.2 CONCLUSIÓN FINAL\n",
    "\n",
    "Este análisis permite identificar áreas del territorio que presentan mayor idoneidad para expansión urbana, facilitando la toma de decisiones en procesos de planificación territorial. Las zonas se visualizan en un mapa temático donde:\n",
    "\n",
    "* Verde indica áreas óptimas.\n",
    "* Naranja áreas medianamente aptas.\n",
    "* Rojo áreas con baja idoneidad.\n",
    "  \n",
    "El mapa final muestra cómo la mayor parte del municipio presenta una idoneidad media para expansión urbana, mientras que zonas de borde presentan baja aptitud, principalmente por pendientes elevadas o restricciones de accesibilidad, mientras que sectores con alta aptitud corresponden a áreas planas y accesibles dentro del tejido urbano existente. Este tipo de análisis puede replicarse en otros municipios colombianos, apoyando la gestión del suelo urbano teniendo en cuenta la política nacional de ordenamiento territorial."
   ]
  },
  {
   "cell_type": "markdown",
   "id": "273043db-f2c4-4116-bab3-2e411aeab737",
   "metadata": {},
   "source": [
    "### 3.3 Conclusiones claves\n",
    "A partir del índice de idoneidad construido con los criterios y pesos definidos, y de acuerdo al mapa de clasificación, se llegó a las siguientes conclusiones.\n",
    "* El ejercicio identifica oportunidades realistas de expansión urbana en Tocancipá, alineadas con sus características industriales-residenciales y normativas territoriales. Aunque solo el 3.8% del área es óptima, su localización estratégica (cercana a vías y centros poblados) maximiza su potencial. La mayoría del territorio (54.8%) requiere evaluación detallada, mientras que el 41.3% debe protegerse de usos urbanos. Este análisis proporciona una base técnica para decisiones de planificación sostenible y mitigación de riesgos."
   ]
  },
  {
   "cell_type": "markdown",
   "id": "f5816d97-771a-401e-9f18-2ae1eefdf6fe",
   "metadata": {},
   "source": [
    "#### 3.3.1 Distribución de idoneidad \n",
    "- Baja Idoneidad (41.3% del área):\n",
    "Corresponde a zonas con pendientes pronunciadas (>15°), lejanía de vías principales, o cobertura de suelos agrícolas protegidos (alta productividad).\n",
    "Ejemplo: Áreas cercanas a Cerro o Reserva Tommé, donde probablemente predominan restricciones físicas o ambientales.\n",
    "- Media Idoneidad (54.8% del área):\n",
    "Son zonas con condiciones moderadas: cercanía parcial a vías o centros poblados, pendientes aceptables, pero con limitaciones en densidad vial o cobertura agrícola (pastos).\n",
    "Ejemplo: Sectores como Barandillas o La Guía, donde podrían requerirse estudios complementarios para viabilidad.\n",
    "- Alta Idoneidad (3.8% del área):\n",
    "Áreas óptimas que cumplen con todos los criterios: planas (<15°), cercanas a vías (ej: Autopista Norte), conectadas a centros poblados (ej: Gachancipá), y con cobertura de pastos.\n",
    "Ejemplo: Posibles zonas al suroriente del municipio, cercanas a Hato Grande o Barcelona/Apostería, donde coinciden accesibilidad y aptitud física."
   ]
  },
  {
   "cell_type": "markdown",
   "id": "4746d656-0c9c-45e5-9baf-d63312b0a1d9",
   "metadata": {},
   "source": [
    "#### 3.3.2 Factores determinantes\n",
    "- Accesibilidad (65% de peso):\n",
    "La combinación de cercanía a vías principales (25%), centros poblados (20%), y densidad vial (20%) es el factor más crítico. Las áreas mejor puntuadas están cerca de ejes viales estratégicos (ej: Vía Tocancipá-Gachancipá).\n",
    "- Aptitud Física (20%):\n",
    "Las zonas con pendientes >15° fueron descartadas automáticamente, alineándose con las directrices del POT.\n",
    "- Uso del Suelo (15%):\n",
    "Las áreas con pastos (baja productividad agrícola) fueron priorizadas, en cumplimiento con la Ley 388 y el POT."
   ]
  },
  {
   "cell_type": "markdown",
   "id": "b82c4af0-bc46-4af7-8570-9b3c9cbde866",
   "metadata": {},
   "source": [
    "#### 3.3.3 Recomendaciones en planificación \n",
    "\n",
    "A partir del análisis del índice de idoneidad, se plantean las siguientes recomendaciones orientadas a una expansión urbana sostenible y eficiente:\n",
    "\n",
    "* Priorizar la expansión en zonas de alta idoneidad (3.8% del territorio):\n",
    "Estas áreas son las más favorables para la expansión, ya que requieren menor inversión en mitigación de riesgos o infraestructura básica. Se recomienda priorizar estos sectores en los planes de desarrollo, por ejemplo, en áreas colindantes con Hato Grande o en corredores de conexión hacia Barcelona, donde la disponibilidad de suelo apto puede fortalecer la conectividad territorial.\n",
    "\n",
    "* Evaluar las zonas de idoneidad media (54.8% del territorio):\n",
    "Estas áreas representan un alto potencial para la expansión urbana, pero requieren estudios de detalle para verificar su factibilidad técnica, ambiental y de servicios. Son adecuadas para considerar proyectos de industria liviana combinados con vivienda, contribuyendo al equilibrio entre desarrollo económico y habitacional en el municipio.\n",
    "\n",
    "* Proteger las zonas de baja idoneidad (41.3% del territorio):\n",
    "Se recomienda destinar estas áreas a conservación ambiental (por ejemplo, la Reserva Tommé) o a usos agroforestales compatibles con la sostenibilidad del territorio. Es fundamental evitar presiones urbanísticas en estas zonas para prevenir riesgos asociados a inundaciones, pendientes pronunciadas o conflictos con áreas ambientales estratégicas.\n",
    "\n"
   ]
  }
 ],
 "metadata": {
  "kernelspec": {
   "display_name": "Python 3 (ipykernel)",
   "language": "python",
   "name": "python3"
  },
  "language_info": {
   "codemirror_mode": {
    "name": "ipython",
    "version": 3
   },
   "file_extension": ".py",
   "mimetype": "text/x-python",
   "name": "python",
   "nbconvert_exporter": "python",
   "pygments_lexer": "ipython3",
   "version": "3.11.9"
  }
 },
 "nbformat": 4,
 "nbformat_minor": 5
}
